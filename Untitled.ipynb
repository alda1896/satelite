{
 "cells": [
  {
   "cell_type": "code",
   "execution_count": 30,
   "metadata": {},
   "outputs": [
    {
     "name": "stdout",
     "output_type": "stream",
     "text": [
      "ingrese el periodo (en segundos): 86148\n",
      "35811538.32165902\n"
     ]
    }
   ],
   "source": [
    "T=float (input (\"ingrese el periodo (en segundos): \"))\n",
    "G=6.67e-11\n",
    "M=5.98e24\n",
    "R=6371e3\n",
    "h= (((T**2*G*M)/(2*3.14)**2)**(1/3))-R\n",
    "\n",
    "print (h)\n"
   ]
  },
  {
   "cell_type": "markdown",
   "metadata": {},
   "source": [
    " Este codigo es utilizado para calcular la altura (h) de un satelite geosincronico sobre la superficie terrestre teniendo en cuenta su periodo (T). Empleando la ley de gravitacion universal y la segunda ley de Newton podemos optener la siguiente ecuacion:\n",
    "\n",
    "\\begin{equation}\n",
    "h=\\left ( \\frac{T^{2}GM}{2\\pi ^{2}} \\right )^{\\frac{1}{3}}-R\n",
    "\\end{equation}\n",
    "\n",
    "calculamos los siguientes datos:\n",
    "\n",
    "para un perdiodo de un dia (24 horas) se optiene una altura de de 35893759.8 metros\n",
    "\n",
    "para un perdiodo de de 90 minutos se optiene una altura de de 285282.56 metros\n",
    "\n",
    "para un un perdiodo de 45 minutos se optiene una altura de de -2177804.73 metros\n",
    "\n",
    "para un dia sideral (23.93 horas) se optiene una altura de de 35811538.32 metros\n",
    "\n",
    "\n",
    "\n",
    "\n"
   ]
  },
  {
   "cell_type": "code",
   "execution_count": null,
   "metadata": {},
   "outputs": [],
   "source": []
  }
 ],
 "metadata": {
  "kernelspec": {
   "display_name": "Python 3",
   "language": "python",
   "name": "python3"
  },
  "language_info": {
   "codemirror_mode": {
    "name": "ipython",
    "version": 3
   },
   "file_extension": ".py",
   "mimetype": "text/x-python",
   "name": "python",
   "nbconvert_exporter": "python",
   "pygments_lexer": "ipython3",
   "version": "3.5.2"
  }
 },
 "nbformat": 4,
 "nbformat_minor": 2
}
